{
 "cells": [
  {
   "cell_type": "code",
   "execution_count": 1,
   "id": "f6b151a8",
   "metadata": {},
   "outputs": [],
   "source": [
    "import os\n",
    "import csv"
   ]
  },
  {
   "cell_type": "code",
   "execution_count": 2,
   "id": "103d3c7f",
   "metadata": {},
   "outputs": [
    {
     "output_type": "execute_result",
     "data": {
      "text/plain": [
       "'Resources\\\\budget_data.csv'"
      ]
     },
     "metadata": {},
     "execution_count": 2
    }
   ],
   "source": [
    "csvpath = os.path.join('Resources', 'budget_data.csv')\n",
    "csvpath"
   ]
  },
  {
   "cell_type": "code",
   "execution_count": 3,
   "metadata": {},
   "outputs": [],
   "source": [
    "# Set Variables for loop & calculations\n",
    "total_months = 0 \n",
    "profits_losses = 0\n",
    "previous_value = 0\n",
    "\n",
    "# Establish a list to hold the changes between rows\n",
    "unique_changes = []\n",
    "months = []"
   ]
  },
  {
   "cell_type": "code",
   "execution_count": 4,
   "id": "b10c57ae",
   "metadata": {},
   "outputs": [
    {
     "output_type": "stream",
     "name": "stdout",
     "text": [
      "[116771, -662642, -391430, 379920, 212354, 510239, -428211, -821271, 693918, 416278, -974163, 860159, -1115009, 1033048, 95318, -308093, 99052, -521393, 605450, 231727, -65187, -702716, 177975, -1065544, 1926159, -917805, 898730, -334262, -246499, -64055, -1529236, 1497596, 304914, -635801, 398319, -183161, -37864, -253689, 403655, 94168, 306877, -83000, 210462, -2196167, 1465222, -956983, 1838447, -468003, -64602, 206242, -242155, -449079, 315198, 241099, 111540, 365942, -219310, -368665, 409837, 151210, -110244, -341938, -1212159, 683246, -70825, 335594, 417334, -272194, -236462, 657432, -211262, -128237, -1750387, 925441, 932089, -311434, 267252, -1876758, 1733696, 198551, -665765, 693229, -734926, 77242, 532869]\n"
     ]
    }
   ],
   "source": [
    "# Open & read the file \n",
    "with open(csvpath) as csvfile:\n",
    "    csvreader = csv.reader(csvfile, delimiter = ',')\n",
    "    \n",
    "    # Skip the first line \n",
    "    csv_header = next(csvreader)\n",
    "    \n",
    "    # Loop through all the rows, count months, and total profits & losses \n",
    "    for row in csvreader: \n",
    "        total_months += 1\n",
    "        profits_losses = profits_losses + int(row[1])\n",
    "        months.append(row[0])\n",
    "        \n",
    "        # Set a condition for the first row without a previous total\n",
    "        if row[0] == \"Jan-2010\":\n",
    "            previous_value = (int(row[1]))\n",
    "\n",
    "        # Otherwise substract the current value in column 2 from the previous value and add it to our list \n",
    "        else:  \n",
    "            unique_changes.append(int(row[1]) - previous_value) \n",
    "\n",
    "        previous_value = (int(row[1]))\n",
    "\n",
    "    print(unique_changes)\n",
    "\n",
    "    # Total all the changes \n",
    "    sum_unique_changes = sum(unique_changes)\n",
    "\n",
    "    # Average the changes \n",
    "    average_change = round(sum_unique_changes/(total_months - 1), 2)\n",
    "    \n",
    "    # Find greatest increase and decrease \n",
    "    max_increase = max(unique_changes)\n",
    "    max_increase_index = unique_changes.index(max_increase)+1\n",
    "    max_decrease = min(unique_changes)\n",
    "    max_decrease_index = unique_changes.index(max_decrease)+1"
   ]
  },
  {
   "cell_type": "code",
   "execution_count": 5,
   "id": "ccc73c71",
   "metadata": {},
   "outputs": [
    {
     "output_type": "stream",
     "name": "stdout",
     "text": [
      "Financial Analysis\n\n--------------------\n\nTotal Months: 86\nTotal: 38382578\nAverage Change: -2315.12\nGreatest Increase in Profits: Feb-2012 $1926159\nGreatest Decrease in Profits: Sep-2013 $-2196167\n"
     ]
    }
   ],
   "source": [
    "print(\"Financial Analysis\\n\")\n",
    "print(\"--------------------\\n\")\n",
    "\n",
    "print(f\"Total Months: {total_months}\")\n",
    "print(f\"Total: {profits_losses}\")\n",
    "print(f\"Average Change: {average_change}\")\n",
    "print(f\"Greatest Increase in Profits: {months[max_increase_index]} ${max_increase}\")\n",
    "print(f\"Greatest Decrease in Profits: {months[max_decrease_index]} ${max_decrease}\")"
   ]
  },
  {
   "cell_type": "code",
   "execution_count": 6,
   "metadata": {},
   "outputs": [],
   "source": [
    "outfile = open (\"pybank_output.txt\", \"w\")"
   ]
  },
  {
   "cell_type": "code",
   "execution_count": 7,
   "metadata": {},
   "outputs": [],
   "source": [
    "outfile.write(\"Financial Analysis\\n\")\n",
    "outfile.write(\"----------------\\n\")\n",
    "outfile.write(\"Total Months:\" + str(total_months)+\"\\n\")\n",
    "outfile.write(\"Average Change:\" + str(average_change)+\"\\n\")\n",
    "outfile.write(\"Greatest Increase in Profits:\" + (months[max_increase_index]) + \" \" + str(max_increase)+\"\\n\")\n",
    "outfile.write(\"Greatest Decrease in Profits:\" + (months[max_decrease_index]) + str(max_decrease)+\"\\n\")\n",
    "outfile.close()"
   ]
  },
  {
   "cell_type": "code",
   "execution_count": null,
   "metadata": {},
   "outputs": [],
   "source": []
  }
 ],
 "metadata": {
  "kernelspec": {
   "name": "python3",
   "display_name": "Python 3.8.8 64-bit ('base': conda)"
  },
  "language_info": {
   "codemirror_mode": {
    "name": "ipython",
    "version": 3
   },
   "file_extension": ".py",
   "mimetype": "text/x-python",
   "name": "python",
   "nbconvert_exporter": "python",
   "pygments_lexer": "ipython3",
   "version": "3.8.8"
  },
  "interpreter": {
   "hash": "b6f2da208027a710af838b722cc94f35f6b93dbd1fbaad81bb3a593b9ad2053e"
  }
 },
 "nbformat": 4,
 "nbformat_minor": 5
}