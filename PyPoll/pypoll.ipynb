{
 "cells": [
  {
   "cell_type": "code",
   "execution_count": 2,
   "metadata": {},
   "outputs": [],
   "source": [
    "import os\n",
    "import csv"
   ]
  },
  {
   "cell_type": "code",
   "execution_count": 3,
   "metadata": {},
   "outputs": [
    {
     "data": {
      "text/plain": [
       "'Resources\\\\election_data.csv'"
      ]
     },
     "execution_count": 3,
     "metadata": {},
     "output_type": "execute_result"
    }
   ],
   "source": [
    "csvpath = os.path.join('Resources','election_data.csv')\n",
    "csvpath"
   ]
  },
  {
   "cell_type": "code",
   "execution_count": 4,
   "metadata": {},
   "outputs": [],
   "source": [
    "# Set Variables for loop & calculations\n",
    "total_votes_cast = 0 \n",
    "candidates = []\n",
    "khan = 0 \n",
    "correy = 0 \n",
    "li = 0 \n",
    "otooley = 0"
   ]
  },
  {
   "cell_type": "code",
   "execution_count": 5,
   "metadata": {},
   "outputs": [],
   "source": [
    "with open(csvpath) as csvfile:\n",
    "    csvreader = csv.reader(csvfile, delimiter = ',')\n",
    "    \n",
    "    # Skip the first line \n",
    "    csv_header = next(csvreader)\n",
    "    \n",
    "    # Loop through all the rows, count months, and total profits & losses \n",
    "    for row in csvreader: \n",
    "        total_votes_cast += 1\n",
    "        if row[2] not in candidates: \n",
    "            candidates.append(row[2])\n",
    "        if \"Khan\" in row[2]:\n",
    "            khan += 1\n",
    "        if \"Correy\" in row[2]:\n",
    "            correy += 1\n",
    "        if \"Li\" in row[2]:\n",
    "            li += 1\n",
    "        if \"O'Tooley\" in row[2]:\n",
    "            otooley += 1"
   ]
  },
  {
   "cell_type": "code",
   "execution_count": 6,
   "metadata": {},
   "outputs": [],
   "source": [
    "# Percentage calculations\n",
    "khan_percentage = \"{:.0%}\".format(khan/total_votes_cast)\n",
    "correy_percentage = \"{:.0%}\".format(correy/total_votes_cast)\n",
    "li_percentage = \"{:.0%}\".format(li/total_votes_cast)\n",
    "otooley_percentage = \"{:.0%}\".format(otooley/total_votes_cast)"
   ]
  },
  {
   "cell_type": "code",
   "execution_count": 7,
   "metadata": {},
   "outputs": [
    {
     "name": "stdout",
     "output_type": "stream",
     "text": [
      "Election Results\n",
      "----------------\n",
      "Total votes: 3521001\n",
      "----------------\n",
      "Khan: 2218231 (63%)\n",
      "Correy: 704200 (20%)\n",
      "Li: 492940 (14%)\n",
      "O'Tooley: 105630 (3%)\n",
      "----------------\n",
      "Winner: Khan\n",
      "----------------\n"
     ]
    }
   ],
   "source": [
    "print(\"Election Results\")\n",
    "print(\"----------------\")\n",
    "print(f\"Total votes: {total_votes_cast}\")\n",
    "print(\"----------------\")\n",
    "print(f\"Khan: {khan} ({khan_percentage})\")\n",
    "print(f\"Correy: {correy} ({correy_percentage})\")\n",
    "print(f\"Li: {li} ({li_percentage})\")\n",
    "print(f\"O'Tooley: {otooley} ({otooley_percentage})\")\n",
    "print(\"----------------\")\n",
    "print(\"Winner: Khan\")\n",
    "print(\"----------------\")"
   ]
  },
  {
   "cell_type": "code",
   "execution_count": 8,
   "metadata": {},
   "outputs": [],
   "source": [
    "outfile = open (\"pypoll_output.txt\", \"w\")"
   ]
  },
  {
   "cell_type": "code",
   "execution_count": 9,
   "metadata": {},
   "outputs": [],
   "source": [
    "outfile.write(\"Election Results\\n\")\n",
    "outfile.write (\"------------------------\\n\")\n",
    "outfile.write (\"Total votes: \" + str(total_votes_cast) + \"\\n\")\n",
    "outfile.write (\"Khan: \" + str(khan) + \" \" + str(khan_percentage) + \"\\n\")\n",
    "outfile.write (\"Correy: \" + str(correy) + \" \" + str(correy_percentage) + \"\\n\")\n",
    "outfile.write (\"Li: \" + str(li) + \" \" + str(li_percentage) + \"\\n\")\n",
    "outfile.write (\"O'Tooley: \" + str(otooley) + \" \" + str(otooley_percentage) + \"\\n\")\n",
    "outfile.close()"
   ]
  },
  {
   "cell_type": "code",
   "execution_count": null,
   "metadata": {},
   "outputs": [],
   "source": []
  }
 ],
 "metadata": {
  "interpreter": {
   "hash": "b6f2da208027a710af838b722cc94f35f6b93dbd1fbaad81bb3a593b9ad2053e"
  },
  "kernelspec": {
   "display_name": "Python 3",
   "language": "python",
   "name": "python3"
  },
  "language_info": {
   "codemirror_mode": {
    "name": "ipython",
    "version": 3
   },
   "file_extension": ".py",
   "mimetype": "text/x-python",
   "name": "python",
   "nbconvert_exporter": "python",
   "pygments_lexer": "ipython3",
   "version": "3.8.8"
  }
 },
 "nbformat": 4,
 "nbformat_minor": 2
}
